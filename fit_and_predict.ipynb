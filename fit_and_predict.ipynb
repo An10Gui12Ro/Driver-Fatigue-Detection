{
 "cells": [
  {
   "cell_type": "markdown",
   "id": "3446f57e",
   "metadata": {},
   "source": [
    "# Preprocess, balance, train and test split, fit and predict"
   ]
  },
  {
   "cell_type": "code",
   "execution_count": 2,
   "id": "1f0846ed",
   "metadata": {},
   "outputs": [],
   "source": [
    "import pandas as pd\n",
    "from sklearn.preprocessing import MinMaxScaler\n",
    "from imblearn.over_sampling import SMOTE\n",
    "from sklearn.model_selection import train_test_split, GridSearchCV\n",
    "from sklearn.ensemble import RandomForestClassifier\n",
    "from sklearn.svm import SVC\n",
    "from sklearn.metrics import classification_report, confusion_matrix\n",
    "import joblib"
   ]
  },
  {
   "cell_type": "code",
   "execution_count": 3,
   "id": "113506f2",
   "metadata": {},
   "outputs": [],
   "source": [
    "df = pd.read_csv(\"features.csv\")"
   ]
  },
  {
   "cell_type": "code",
   "execution_count": 4,
   "id": "f6465e7d",
   "metadata": {},
   "outputs": [],
   "source": [
    "# Preprocesamiento\n",
    "X = df.drop(['video_id', 'label'], axis=1)  # Incluye las nuevas columnas\n",
    "y = df['label']\n",
    "scaler = MinMaxScaler()\n",
    "X_scaled = scaler.fit_transform(X)"
   ]
  },
  {
   "cell_type": "code",
   "execution_count": 5,
   "id": "8fb3a958",
   "metadata": {},
   "outputs": [],
   "source": [
    "# Balancear clases con SMOTE\n",
    "smote = SMOTE(random_state=42)\n",
    "X_balanced, y_balanced = smote.fit_resample(X_scaled, y)"
   ]
  },
  {
   "cell_type": "code",
   "execution_count": 6,
   "id": "0185d834",
   "metadata": {},
   "outputs": [],
   "source": [
    "# Dividir en entrenamiento y prueba\n",
    "X_train, X_test, y_train, y_test = train_test_split(X_balanced, y_balanced, test_size=0.15, random_state=42)"
   ]
  },
  {
   "cell_type": "code",
   "execution_count": 7,
   "id": "1845ad60",
   "metadata": {},
   "outputs": [
    {
     "name": "stdout",
     "output_type": "stream",
     "text": [
      "Mejores parámetros RF: {'max_depth': 20, 'min_samples_split': 2, 'n_estimators': 200}\n",
      "Mejores parámetros SVM: {'C': 10, 'gamma': 'scale', 'kernel': 'rbf'}\n"
     ]
    }
   ],
   "source": [
    "# Entrenar Random Forest\n",
    "rf_params = {'n_estimators': [100, 200], 'max_depth': [10, 20], 'min_samples_split': [2, 5]}\n",
    "rf_grid = GridSearchCV(RandomForestClassifier(random_state=42), rf_params, cv=5, scoring='f1')\n",
    "rf_grid.fit(X_train, y_train)\n",
    "print(\"Mejores parámetros RF:\", rf_grid.best_params_)\n",
    "rf_model = rf_grid.best_estimator_\n",
    "\n",
    "# Entrenar SVM\n",
    "svm_params = {'C': [0.1, 1, 10], 'gamma': ['scale', 0.001, 0.01], 'kernel': ['rbf']}\n",
    "svm_grid = GridSearchCV(SVC(probability=True), svm_params, cv=5, scoring='f1')\n",
    "svm_grid.fit(X_train, y_train)\n",
    "print(\"Mejores parámetros SVM:\", svm_grid.best_params_)\n",
    "svm_model = svm_grid.best_estimator_"
   ]
  },
  {
   "cell_type": "code",
   "execution_count": 8,
   "id": "11892d75",
   "metadata": {},
   "outputs": [
    {
     "name": "stdout",
     "output_type": "stream",
     "text": [
      "\n",
      "Resultados Random Forest:\n",
      "              precision    recall  f1-score   support\n",
      "\n",
      "           0       0.97      0.94      0.96      5238\n",
      "           1       0.94      0.97      0.96      5199\n",
      "\n",
      "    accuracy                           0.96     10437\n",
      "   macro avg       0.96      0.96      0.96     10437\n",
      "weighted avg       0.96      0.96      0.96     10437\n",
      "\n",
      "Matriz de confusión RF:\n",
      " [[4944  294]\n",
      " [ 163 5036]]\n",
      "\n",
      "Resultados SVM:\n",
      "              precision    recall  f1-score   support\n",
      "\n",
      "           0       0.77      0.57      0.66      5238\n",
      "           1       0.66      0.83      0.74      5199\n",
      "\n",
      "    accuracy                           0.70     10437\n",
      "   macro avg       0.72      0.70      0.70     10437\n",
      "weighted avg       0.72      0.70      0.70     10437\n",
      "\n",
      "Matriz de confusión SVM:\n",
      " [[3001 2237]\n",
      " [ 876 4323]]\n"
     ]
    }
   ],
   "source": [
    "# Evaluar modelos\n",
    "print(\"\\nResultados Random Forest:\")\n",
    "y_pred = rf_model.predict(X_test)\n",
    "print(classification_report(y_test, y_pred))\n",
    "print(\"Matriz de confusión RF:\\n\", confusion_matrix(y_test, y_pred))\n",
    "print(\"\\nResultados SVM:\")\n",
    "y_pred = svm_model.predict(X_test)\n",
    "print(classification_report(y_test, y_pred))\n",
    "print(\"Matriz de confusión SVM:\\n\", confusion_matrix(y_test, y_pred))"
   ]
  },
  {
   "cell_type": "code",
   "execution_count": 9,
   "id": "4204bd7d",
   "metadata": {},
   "outputs": [
    {
     "data": {
      "text/plain": [
       "['models/scaler.pkl']"
      ]
     },
     "execution_count": 9,
     "metadata": {},
     "output_type": "execute_result"
    }
   ],
   "source": [
    "# Guardar modelos\n",
    "joblib.dump(rf_model, 'models/rf_model.pkl')\n",
    "joblib.dump(svm_model, 'models/svm_model.pkl')\n",
    "joblib.dump(scaler, 'models/scaler.pkl')"
   ]
  }
 ],
 "metadata": {
  "kernelspec": {
   "display_name": "base",
   "language": "python",
   "name": "python3"
  },
  "language_info": {
   "codemirror_mode": {
    "name": "ipython",
    "version": 3
   },
   "file_extension": ".py",
   "mimetype": "text/x-python",
   "name": "python",
   "nbconvert_exporter": "python",
   "pygments_lexer": "ipython3",
   "version": "3.12.7"
  }
 },
 "nbformat": 4,
 "nbformat_minor": 5
}
